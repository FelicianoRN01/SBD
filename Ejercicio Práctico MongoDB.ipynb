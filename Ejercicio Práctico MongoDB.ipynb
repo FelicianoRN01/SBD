{
 "cells": [
  {
   "cell_type": "code",
   "execution_count": 2,
   "metadata": {},
   "outputs": [],
   "source": [
    "from conector import ConectorMongoDB\n",
    "\n",
    "conector = ConectorMongoDB()\n",
    "cliente = conector.conectarse()\n",
    "\n",
    "plat_integral = cliente[\"plat_integral\"]\n",
    "coleccion = plat_integral[\"ej_practico_mongo\"]"
   ]
  },
  {
   "cell_type": "markdown",
   "metadata": {},
   "source": [
    "1 - Inserta un registro en una Colección"
   ]
  }
 ],
 "metadata": {
  "kernelspec": {
   "display_name": "mongoDB-env",
   "language": "python",
   "name": "python3"
  },
  "language_info": {
   "codemirror_mode": {
    "name": "ipython",
    "version": 3
   },
   "file_extension": ".py",
   "mimetype": "text/x-python",
   "name": "python",
   "nbconvert_exporter": "python",
   "pygments_lexer": "ipython3",
   "version": "3.12.4"
  }
 },
 "nbformat": 4,
 "nbformat_minor": 2
}
