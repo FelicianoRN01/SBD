{
 "cells": [
  {
   "cell_type": "code",
   "execution_count": 2,
   "metadata": {},
   "outputs": [],
   "source": [
    "from conector import ConectorMongoDB\n",
    "\n",
    "conector = ConectorMongoDB()\n",
    "cliente = conector.conectarse()\n",
    "\n",
    "plat_integral = cliente[\"plat_integral\"]\n",
    "coleccion = plat_integral[\"ej_practico_mongo\"]"
   ]
  },
  {
   "cell_type": "markdown",
   "metadata": {},
   "source": [
    "1 - Inserta un registro en una Colección"
   ]
  },
  {
   "cell_type": "code",
   "execution_count": null,
   "metadata": {},
   "outputs": [
    {
     "name": "stdout",
     "output_type": "stream",
     "text": [
      "Registro insertado: {'nombre': 'Feliciano', 'apellidos': 'Ramirez Navarro', 'edad': 23, 'interes': 'Busqueda de empleo', '_id': ObjectId('67362f51152cde97c61b77b8')}\n"
     ]
    }
   ],
   "source": [
    "def insertar_registro():\n",
    "    nombre = input(\"Ingrese el nombre del usuario: \")\n",
    "    apellidos = input(\"Ingrese los apellidos del usuario: \")\n",
    "    edad = int(input(\"Ingrese la edad: \"))\n",
    "    interes = input(\"Ingrese el área de interés: \")\n",
    "    registro = {\"nombre\": nombre, \"apellidos\": apellidos, \"edad\": edad, \"interes\": interes}\n",
    "    coleccion.insert_one(registro)\n",
    "    print(\"Registro insertado:\", registro)\n",
    "\n",
    "insertar_registro()\n"
   ]
  },
  {
   "cell_type": "markdown",
   "metadata": {},
   "source": [
    "2 - Insertar varios registros en una Coleccion"
   ]
  },
  {
   "cell_type": "code",
   "execution_count": 8,
   "metadata": {},
   "outputs": [
    {
     "name": "stdout",
     "output_type": "stream",
     "text": [
      "Registros insertados:\n",
      "{'nombre': 'ejemploborrar1', 'apellidos': 'ejemploborrar1', 'edad': 245, 'interes': 'SBD', '_id': ObjectId('67364b97a71ac67efd5836e7')}\n"
     ]
    }
   ],
   "source": [
    "def insertar_varios_registros():\n",
    "    registros = []\n",
    "    while True:\n",
    "        nombre = input(\"Ingrese el nombre del usuario: \")\n",
    "        apellidos = input(\"Ingrese los apellidos del usuario: \")\n",
    "        edad = int(input(\"Ingrese la edad: \"))\n",
    "        interes = input(\"Ingrese el área de interés: \")\n",
    "        registro = {\"nombre\": nombre, \"apellidos\": apellidos, \"edad\": edad, \"interes\": interes}\n",
    "        registros.append(registro)\n",
    "        \n",
    "        continuar = input(\"¿Desea ingresar otro registro? (s/n): \")\n",
    "        if continuar.lower() != 's':\n",
    "            break\n",
    "    \n",
    "    if registros:\n",
    "        coleccion.insert_many(registros)\n",
    "        print(\"Registros insertados:\")\n",
    "        for registro in registros:\n",
    "            print(registro)\n",
    "\n",
    "insertar_varios_registros()"
   ]
  },
  {
   "cell_type": "markdown",
   "metadata": {},
   "source": [
    "3 - Actualizar un registro de una Colección"
   ]
  },
  {
   "cell_type": "code",
   "execution_count": 8,
   "metadata": {},
   "outputs": [
    {
     "name": "stdout",
     "output_type": "stream",
     "text": [
      "Registro actualizado.\n",
      "Datos actualizados: {'_id': ObjectId('67362f51152cde97c61b77b8'), 'nombre': 'Feliciano', 'apellidos': 'Villuela Martinez', 'edad': 23, 'interes': 'No tengo ningun interes'}\n"
     ]
    }
   ],
   "source": [
    "def actualizar_registro():\n",
    "    nombre = input(\"Ingrese el nombre del usuario a actualizar: \")\n",
    "    apellidos = input(\"Ingrese los nuevos apellidos del usuario: \")\n",
    "    edad = int(input(\"Ingrese la nueva edad: \"))\n",
    "    interes = input(\"Ingrese la nueva área de interés: \")\n",
    "    \n",
    "    filtro = {\"nombre\": nombre}\n",
    "    nuevos_valores = {\"$set\": {\"apellidos\": apellidos, \"edad\": edad, \"interes\": interes}}\n",
    "    \n",
    "    resultado = coleccion.update_one(filtro, nuevos_valores)\n",
    "    \n",
    "    if resultado.modified_count > 0:\n",
    "        print(\"Registro actualizado.\")\n",
    "        registro_actualizado = coleccion.find_one(filtro)\n",
    "        print(\"Datos actualizados:\", registro_actualizado)\n",
    "    else:\n",
    "        print(\"No se encontró un registro con ese nombre.\")\n",
    "\n",
    "actualizar_registro()"
   ]
  },
  {
   "cell_type": "markdown",
   "metadata": {},
   "source": [
    "4 - Actualizar varios registros en una Colección"
   ]
  },
  {
   "cell_type": "code",
   "execution_count": 3,
   "metadata": {},
   "outputs": [
    {
     "name": "stdout",
     "output_type": "stream",
     "text": [
      "Registros actualizados: 1\n",
      "Datos actualizados: {'_id': ObjectId('67363222152cde97c61b77b9'), 'nombre': 'Alvaro', 'apellidos': 'Gonzalez Gonzalez', 'edad': 33, 'interes': 'Analisis de datos'}\n",
      "Registros actualizados: 1\n",
      "Datos actualizados: {'_id': ObjectId('67363222152cde97c61b77ba'), 'nombre': 'Ana', 'apellidos': 'Villanueva Villavieja', 'edad': 20, 'interes': 'Ciencia de datos'}\n"
     ]
    }
   ],
   "source": [
    "def actualizar_varios_registros():\n",
    "    while True:\n",
    "        nombre = input(\"Ingrese el nombre del usuario a actualizar: \")\n",
    "        apellidos = input(\"Ingrese los nuevos apellidos del usuario: \")\n",
    "        edad = int(input(\"Ingrese la nueva edad: \"))\n",
    "        interes = input(\"Ingrese la nueva área de interés: \")\n",
    "        \n",
    "        filtro = {\"nombre\": nombre}\n",
    "        nuevos_valores = {\"$set\": {\"apellidos\": apellidos, \"edad\": edad, \"interes\": interes}}\n",
    "        \n",
    "        resultado = coleccion.update_many(filtro, nuevos_valores)\n",
    "        \n",
    "        if resultado.modified_count > 0:\n",
    "            print(f\"Registros actualizados: {resultado.modified_count}\")\n",
    "            registros_actualizados = coleccion.find(filtro)\n",
    "            for registro in registros_actualizados:\n",
    "                print(\"Datos actualizados:\", registro)\n",
    "        else:\n",
    "            print(\"No se encontró un registro con ese nombre.\")\n",
    "        \n",
    "        continuar = input(\"¿Desea actualizar otro registro? (s/n): \")\n",
    "        if continuar.lower() != 's':\n",
    "            break\n",
    "\n",
    "actualizar_varios_registros()"
   ]
  },
  {
   "cell_type": "markdown",
   "metadata": {},
   "source": [
    "5 - Obtener varios registros por un filtro de un atributo dentro de una Colección"
   ]
  },
  {
   "cell_type": "code",
   "execution_count": 15,
   "metadata": {},
   "outputs": [
    {
     "name": "stdout",
     "output_type": "stream",
     "text": [
      "Registros encontrados:\n",
      "{'_id': ObjectId('67363222152cde97c61b77ba'), 'nombre': 'Ana', 'apellidos': 'Villanueva Villavieja', 'edad': 20, 'interes': 'Ciencia de datos'}\n"
     ]
    }
   ],
   "source": [
    "def obtener_registros_por_filtro():\n",
    "    atributo = input(\"Ingrese el atributo por el cual desea filtrar (nombre, apellidos, edad, interes): \")\n",
    "    valor = input(f\"Ingrese el valor del atributo {atributo} que desea buscar: \")\n",
    "    \n",
    "    if atributo == \"edad\":\n",
    "        valor = int(valor)\n",
    "    \n",
    "    filtro = {atributo: valor}\n",
    "    registros = coleccion.find(filtro)\n",
    "    \n",
    "    registros_encontrados = list(registros)\n",
    "    if registros_encontrados:\n",
    "        print(\"Registros encontrados:\")\n",
    "        for registro in registros_encontrados:\n",
    "            print(registro)\n",
    "    else:\n",
    "        print(\"No se encontraron registros con ese filtro.\")\n",
    "\n",
    "obtener_registros_por_filtro()"
   ]
  },
  {
   "cell_type": "markdown",
   "metadata": {},
   "source": [
    "6 - Obtener varios registros por un filtro por varios atributos dentro de una Colección "
   ]
  },
  {
   "cell_type": "code",
   "execution_count": 16,
   "metadata": {},
   "outputs": [
    {
     "name": "stdout",
     "output_type": "stream",
     "text": [
      "Registros encontrados:\n",
      "{'_id': ObjectId('67363222152cde97c61b77b9'), 'nombre': 'Alvaro', 'apellidos': 'Gonzalez Gonzalez', 'edad': 33, 'interes': 'Analisis de datos'}\n"
     ]
    }
   ],
   "source": [
    "def obtener_registros_por_filtros():\n",
    "    filtros = {}\n",
    "    while True:\n",
    "        atributo = input(\"Ingrese el atributo por el cual desea filtrar (nombre, apellidos, edad, interes): \")\n",
    "        valor = input(f\"Ingrese el valor del atributo {atributo} que desea buscar: \")\n",
    "        \n",
    "        if atributo == \"edad\":\n",
    "            valor = int(valor)\n",
    "        \n",
    "        filtros[atributo] = valor\n",
    "        \n",
    "        continuar = input(\"¿Desea agregar otro filtro? (s/n): \")\n",
    "        if continuar.lower() != 's':\n",
    "            break\n",
    "    \n",
    "    registros = coleccion.find(filtros)\n",
    "    \n",
    "    registros_encontrados = list(registros)\n",
    "    if registros_encontrados:\n",
    "        print(\"Registros encontrados:\")\n",
    "        for registro in registros_encontrados:\n",
    "            print(registro)\n",
    "    else:\n",
    "        print(\"No se encontraron registros con esos filtros.\")\n",
    "obtener_registros_por_filtros()"
   ]
  },
  {
   "cell_type": "markdown",
   "metadata": {},
   "source": [
    "7 - Obtener todos los registros que no tengan valores nulos en un atributo dentro de una Colección (Debe existir atributos con valor a nulo)"
   ]
  },
  {
   "cell_type": "code",
   "execution_count": 25,
   "metadata": {},
   "outputs": [
    {
     "name": "stdout",
     "output_type": "stream",
     "text": [
      "Registro insertado con valores nulos: {'nombre': 'Roberto', 'apellidos': 'Martinez Olmedo', 'edad': None, 'interes': 'Analisis de datos', '_id': ObjectId('6736420cc5ec331ee35633a3')}\n"
     ]
    }
   ],
   "source": [
    "def agregar_registro_con_valores_nulos():\n",
    "    nombre = input(\"Ingrese el nombre del usuario (puede dejarlo vacío para nulo): \")\n",
    "    apellidos = input(\"Ingrese los apellidos del usuario (puede dejarlo vacío para nulo): \")\n",
    "    edad = input(\"Ingrese la edad (puede dejarlo vacío para nulo): \")\n",
    "    interes = input(\"Ingrese el área de interés (puede dejarlo vacío para nulo): \")\n",
    "    \n",
    "    registro = {\n",
    "        \"nombre\": nombre if nombre else None,\n",
    "        \"apellidos\": apellidos if apellidos else None,\n",
    "        \"edad\": int(edad) if edad else None,\n",
    "        \"interes\": interes if interes else None\n",
    "    }\n",
    "    \n",
    "    coleccion.insert_one(registro)\n",
    "    print(\"Registro insertado con valores nulos:\", registro)\n",
    "\n",
    "agregar_registro_con_valores_nulos()"
   ]
  },
  {
   "cell_type": "code",
   "execution_count": 27,
   "metadata": {},
   "outputs": [
    {
     "name": "stdout",
     "output_type": "stream",
     "text": [
      "Registros encontrados:\n",
      "{'_id': ObjectId('67362f51152cde97c61b77b8'), 'nombre': 'Feliciano', 'apellidos': 'Villuela Martinez', 'edad': 23, 'interes': 'No tengo interes'}\n",
      "{'_id': ObjectId('67363222152cde97c61b77b9'), 'nombre': 'Alvaro', 'apellidos': 'Gonzalez Gonzalez', 'edad': 33, 'interes': 'Analisis de datos'}\n",
      "{'_id': ObjectId('67363222152cde97c61b77ba'), 'nombre': 'Ana', 'apellidos': 'Villanueva Villavieja', 'edad': 20, 'interes': 'Ciencia de datos'}\n",
      "{'_id': ObjectId('67363222152cde97c61b77bb'), 'nombre': 'Pablo', 'apellidos': 'Perez Perez', 'edad': 56, 'interes': 'Becas y cursos de formancion para buscar empleo'}\n",
      "{'_id': ObjectId('6736420cc5ec331ee35633a3'), 'nombre': 'Roberto', 'apellidos': 'Martinez Olmedo', 'edad': None, 'interes': 'Analisis de datos'}\n"
     ]
    }
   ],
   "source": [
    "def obtener_registros_sin_valores_nulos():\n",
    "    atributo = input(\"Ingrese el atributo que no debe tener valores nulos: \")\n",
    "    \n",
    "    try:\n",
    "        filtro = {atributo: {\"$ne\": None}}\n",
    "        registros = coleccion.find(filtro)\n",
    "        \n",
    "        registros_encontrados = list(registros)\n",
    "        if registros_encontrados:\n",
    "            print(\"Registros encontrados:\")\n",
    "            for registro in registros_encontrados:\n",
    "                print(registro)\n",
    "        else:\n",
    "            print(\"No se encontraron registros sin valores nulos en el atributo especificado.\")\n",
    "    except Exception as e:\n",
    "        print(f\"Error al obtener registros: {e}\")\n",
    "\n",
    "obtener_registros_sin_valores_nulos()"
   ]
  },
  {
   "cell_type": "markdown",
   "metadata": {},
   "source": [
    "8 - Obtener todos los registros que no tengan un atributo en concreto dentro de una Colección (Debe existir registros que tengan no tengan ese atributo)"
   ]
  },
  {
   "cell_type": "code",
   "execution_count": 31,
   "metadata": {},
   "outputs": [
    {
     "name": "stdout",
     "output_type": "stream",
     "text": [
      "Registros encontrados sin el atributo especificado:\n",
      "{'_id': ObjectId('67363222152cde97c61b77b9'), 'nombre': 'Alvaro', 'apellidos': 'Gonzalez Gonzalez', 'edad': 33, 'interes': 'Analisis de datos'}\n",
      "{'_id': ObjectId('67363222152cde97c61b77ba'), 'nombre': 'Ana', 'apellidos': 'Villanueva Villavieja', 'edad': 20, 'interes': 'Ciencia de datos'}\n",
      "{'_id': ObjectId('67363222152cde97c61b77bb'), 'nombre': 'Pablo', 'apellidos': 'Perez Perez', 'edad': 56, 'interes': 'Becas y cursos de formancion para buscar empleo'}\n",
      "{'_id': ObjectId('6736420cc5ec331ee35633a3'), 'nombre': 'Roberto', 'apellidos': 'Martinez Olmedo', 'edad': None, 'interes': 'Analisis de datos'}\n"
     ]
    }
   ],
   "source": [
    "def obtener_registros_sin_atributo():\n",
    "    atributo = input(\"Ingrese el atributo que no deben tener los registros: \")\n",
    "    \n",
    "    try:\n",
    "        filtro = {atributo: {\"$exists\": False}}\n",
    "        registros = coleccion.find(filtro)\n",
    "        \n",
    "        registros_encontrados = list(registros)\n",
    "        if registros_encontrados:\n",
    "            print(\"Registros encontrados sin el atributo especificado:\")\n",
    "            for registro in registros_encontrados:\n",
    "                print(registro)\n",
    "        else:\n",
    "            print(\"No se encontraron registros sin el atributo especificado.\")\n",
    "    except Exception as e:\n",
    "        print(f\"Error al obtener registros: {e}\")\n",
    "\n",
    "obtener_registros_sin_atributo()"
   ]
  },
  {
   "cell_type": "markdown",
   "metadata": {},
   "source": [
    "9 - Obtener todos los registros que tengan un valor que coincida con una lista de valores"
   ]
  },
  {
   "cell_type": "code",
   "execution_count": 33,
   "metadata": {},
   "outputs": [
    {
     "name": "stdout",
     "output_type": "stream",
     "text": [
      "Registros encontrados:\n",
      "{'_id': ObjectId('67363222152cde97c61b77b9'), 'nombre': 'Alvaro', 'apellidos': 'Gonzalez Gonzalez', 'edad': 33, 'interes': 'Analisis de datos'}\n",
      "{'_id': ObjectId('6736420cc5ec331ee35633a3'), 'nombre': 'Roberto', 'apellidos': 'Martinez Olmedo', 'edad': None, 'interes': 'Analisis de datos'}\n"
     ]
    }
   ],
   "source": [
    "def obtener_registros_por_lista_de_valores():\n",
    "    atributo = input(\"Ingrese el atributo por el cual desea filtrar: \")\n",
    "    valores = input(f\"Ingrese una lista de valores para el atributo {atributo} separados por comas: \").split(',')\n",
    "    valores = [valor.strip() for valor in valores]\n",
    "    \n",
    "    if atributo == \"edad\":\n",
    "        valores = [int(valor) for valor in valores]\n",
    "    \n",
    "    filtro = {atributo: {\"$in\": valores}}\n",
    "    registros = coleccion.find(filtro)\n",
    "    \n",
    "    registros_encontrados = list(registros)\n",
    "    if registros_encontrados:\n",
    "        print(\"Registros encontrados:\")\n",
    "        for registro in registros_encontrados:\n",
    "            print(registro)\n",
    "    else:\n",
    "        print(\"No se encontraron registros con los valores especificados.\")\n",
    "\n",
    "obtener_registros_por_lista_de_valores()"
   ]
  },
  {
   "cell_type": "markdown",
   "metadata": {},
   "source": [
    "10 - Obtener todos los registros que tengan un atributo numérico y que su valor sea superior al especificado en el filtro"
   ]
  },
  {
   "cell_type": "code",
   "execution_count": 35,
   "metadata": {},
   "outputs": [
    {
     "name": "stdout",
     "output_type": "stream",
     "text": [
      "Registros encontrados:\n",
      "{'_id': ObjectId('67362f51152cde97c61b77b8'), 'nombre': 'Feliciano', 'apellidos': 'Villuela Martinez', 'edad': 23, 'interes': 'No tengo interes', 'educacion': 'Master en IA y Big Data'}\n",
      "{'_id': ObjectId('67363222152cde97c61b77b9'), 'nombre': 'Alvaro', 'apellidos': 'Gonzalez Gonzalez', 'edad': 33, 'interes': 'Analisis de datos'}\n",
      "{'_id': ObjectId('67363222152cde97c61b77bb'), 'nombre': 'Pablo', 'apellidos': 'Perez Perez', 'edad': 56, 'interes': 'Becas y cursos de formancion para buscar empleo'}\n"
     ]
    }
   ],
   "source": [
    "def obtener_registros_por_valor_superior():\n",
    "    atributo = input(\"Ingrese el atributo numérico por el cual desea filtrar: \")\n",
    "    valor = float(input(f\"Ingrese el valor mínimo para el atributo {atributo}: \"))\n",
    "    \n",
    "    filtro = {atributo: {\"$gt\": valor}}\n",
    "    registros = coleccion.find(filtro)\n",
    "    \n",
    "    registros_encontrados = list(registros)\n",
    "    if registros_encontrados:\n",
    "        print(\"Registros encontrados:\")\n",
    "        for registro in registros_encontrados:\n",
    "            print(registro)\n",
    "    else:\n",
    "        print(\"No se encontraron registros con el valor especificado superior al umbral.\")\n",
    "\n",
    "obtener_registros_por_valor_superior()"
   ]
  },
  {
   "cell_type": "markdown",
   "metadata": {},
   "source": [
    "11- Obtener todos los registros que cumpla una condición u otra"
   ]
  },
  {
   "cell_type": "code",
   "execution_count": null,
   "metadata": {},
   "outputs": [
    {
     "name": "stdout",
     "output_type": "stream",
     "text": [
      "Registros encontrados:\n",
      "{'_id': ObjectId('67363222152cde97c61b77ba'), 'nombre': 'Ana', 'apellidos': 'Villanueva Villavieja', 'edad': 20, 'interes': 'Ciencia de datos'}\n"
     ]
    }
   ],
   "source": [
    "def obtener_registros_por_condiciones():\n",
    "    condiciones = []\n",
    "    while True:\n",
    "        atributo = input(\"Ingrese el atributo por el cual desea filtrar: \")\n",
    "        operador = input(\"Ingrese el operador de comparación (eq, ne, gt, lt, gte, lte): \")\n",
    "        valor = input(f\"Ingrese el valor para el atributo {atributo}: \")\n",
    "        \n",
    "        if operador == \"eq\":\n",
    "            condicion = {atributo: valor}\n",
    "        elif operador == \"ne\":\n",
    "            condicion = {atributo: {\"$ne\": valor}}\n",
    "        elif operador == \"gt\":\n",
    "            condicion = {atributo: {\"$gt\": valor}}\n",
    "        elif operador == \"lt\":\n",
    "            condicion = {atributo: {\"$lt\": valor}}\n",
    "        elif operador == \"gte\":\n",
    "            condicion = {atributo: {\"$gte\": valor}}\n",
    "        elif operador == \"lte\":\n",
    "            condicion = {atributo: {\"$lte\": valor}}\n",
    "        else:\n",
    "            print(\"Operador no válido.\")\n",
    "            continue\n",
    "        \n",
    "        condiciones.append(condicion)\n",
    "        \n",
    "        continuar = input(\"¿Desea agregar otra condición? (s/n): \")\n",
    "        if continuar.lower() != 's':\n",
    "            break\n",
    "    \n",
    "    filtro = {\"$or\": condiciones}\n",
    "    registros = coleccion.find(filtro)\n",
    "    \n",
    "    registros_encontrados = list(registros)\n",
    "    if registros_encontrados:\n",
    "        print(\"Registros encontrados:\")\n",
    "        for registro in registros_encontrados:\n",
    "            print(registro)\n",
    "    else:\n",
    "        print(\"No se encontraron registros que cumplan con las condiciones especificadas.\")\n",
    "\n",
    "obtener_registros_por_condiciones()"
   ]
  },
  {
   "cell_type": "markdown",
   "metadata": {},
   "source": [
    "12 - Obtener todos los registros que no cumplan una condición en concreto"
   ]
  },
  {
   "cell_type": "code",
   "execution_count": 38,
   "metadata": {},
   "outputs": [
    {
     "name": "stdout",
     "output_type": "stream",
     "text": [
      "Registros encontrados que no cumplen la condición:\n",
      "{'_id': ObjectId('67362f51152cde97c61b77b8'), 'nombre': 'Feliciano', 'apellidos': 'Villuela Martinez', 'edad': 23, 'interes': 'No tengo interes', 'educacion': 'Master en IA y Big Data'}\n",
      "{'_id': ObjectId('67363222152cde97c61b77ba'), 'nombre': 'Ana', 'apellidos': 'Villanueva Villavieja', 'edad': 20, 'interes': 'Ciencia de datos'}\n",
      "{'_id': ObjectId('67363222152cde97c61b77bb'), 'nombre': 'Pablo', 'apellidos': 'Perez Perez', 'edad': 56, 'interes': 'Becas y cursos de formancion para buscar empleo'}\n",
      "Registros encontrados que no cumplen la condición:\n",
      "{'_id': ObjectId('67362f51152cde97c61b77b8'), 'nombre': 'Feliciano', 'apellidos': 'Villuela Martinez', 'edad': 23, 'interes': 'No tengo interes', 'educacion': 'Master en IA y Big Data'}\n",
      "{'_id': ObjectId('67363222152cde97c61b77b9'), 'nombre': 'Alvaro', 'apellidos': 'Gonzalez Gonzalez', 'edad': 33, 'interes': 'Analisis de datos'}\n",
      "{'_id': ObjectId('67363222152cde97c61b77ba'), 'nombre': 'Ana', 'apellidos': 'Villanueva Villavieja', 'edad': 20, 'interes': 'Ciencia de datos'}\n",
      "{'_id': ObjectId('67363222152cde97c61b77bb'), 'nombre': 'Pablo', 'apellidos': 'Perez Perez', 'edad': 56, 'interes': 'Becas y cursos de formancion para buscar empleo'}\n",
      "{'_id': ObjectId('6736420cc5ec331ee35633a3'), 'nombre': 'Roberto', 'apellidos': 'Martinez Olmedo', 'edad': None, 'interes': 'Analisis de datos'}\n"
     ]
    }
   ],
   "source": [
    "def obtener_registros_que_no_cumplan_condicion():\n",
    "    while True:\n",
    "        atributo = input(\"Ingrese el atributo por el cual desea filtrar: \")\n",
    "        operador = input(\"Ingrese el operador de comparación (eq, ne, gt, lt, gte, lte): \")\n",
    "        valor = input(f\"Ingrese el valor para el atributo {atributo}: \")\n",
    "        \n",
    "        if operador == \"eq\":\n",
    "            condicion = {atributo: {\"$eq\": valor}}\n",
    "        elif operador == \"ne\":\n",
    "            condicion = {atributo: {\"$ne\": valor}}\n",
    "        elif operador == \"gt\":\n",
    "            condicion = {atributo: {\"$gt\": valor}}\n",
    "        elif operador == \"lt\":\n",
    "            condicion = {atributo: {\"$lt\": valor}}\n",
    "        elif operador == \"gte\":\n",
    "            condicion = {atributo: {\"$gte\": valor}}\n",
    "        elif operador == \"lte\":\n",
    "            condicion = {atributo: {\"$lte\": valor}}\n",
    "        else:\n",
    "            print(\"Operador no válido.\")\n",
    "            continue\n",
    "        \n",
    "        filtro = {atributo: {\"$not\": condicion[atributo]}}\n",
    "        registros = coleccion.find(filtro)\n",
    "        \n",
    "        registros_encontrados = list(registros)\n",
    "        if registros_encontrados:\n",
    "            print(\"Registros encontrados que no cumplen la condición:\")\n",
    "            for registro in registros_encontrados:\n",
    "                print(registro)\n",
    "        else:\n",
    "            print(\"No se encontraron registros que no cumplan la condición especificada.\")\n",
    "        \n",
    "        continuar = input(\"¿Desea agregar otra condición? (s/n): \")\n",
    "        if continuar.lower() != 's':\n",
    "            break\n",
    "\n",
    "obtener_registros_que_no_cumplan_condicion()"
   ]
  },
  {
   "cell_type": "markdown",
   "metadata": {},
   "source": [
    "13 - Eliminar un registro de una Colección"
   ]
  },
  {
   "cell_type": "code",
   "execution_count": 3,
   "metadata": {},
   "outputs": [
    {
     "name": "stdout",
     "output_type": "stream",
     "text": [
      "Operaciones disponibles:\n",
      "1. Eliminar un registro por nombre\n",
      "2. Eliminar un registro por apellidos\n",
      "3. Eliminar un registro por edad\n",
      "4. Eliminar un registro por área de interés\n",
      "5. Salir\n",
      "Registro eliminado:\n",
      "{'_id': ObjectId('67363222152cde97c61b77bb'), 'nombre': 'Pablo', 'apellidos': 'Perez Perez', 'edad': 56, 'interes': 'Becas y cursos de formancion para buscar empleo'}\n"
     ]
    }
   ],
   "source": [
    "def eliminar_registro():\n",
    "    while True:\n",
    "        print(\"Operaciones disponibles:\")\n",
    "        print(\"1. Eliminar un registro por nombre\")\n",
    "        print(\"2. Eliminar un registro por apellidos\")\n",
    "        print(\"3. Eliminar un registro por edad\")\n",
    "        print(\"4. Eliminar un registro por área de interés\")\n",
    "        print(\"5. Salir\")\n",
    "        \n",
    "        operacion = input(\"Ingrese el número de la operación que desea realizar: \")\n",
    "        \n",
    "        if operacion == '1':\n",
    "            atributo = \"nombre\"\n",
    "        elif operacion == '2':\n",
    "            atributo = \"apellidos\"\n",
    "        elif operacion == '3':\n",
    "            atributo = \"edad\"\n",
    "        elif operacion == '4':\n",
    "            atributo = \"interes\"\n",
    "        elif operacion == '5':\n",
    "            break\n",
    "        else:\n",
    "            print(\"Operación no válida. Intente de nuevo.\")\n",
    "            continue\n",
    "        \n",
    "        valor = input(f\"Ingrese el valor del atributo {atributo} del registro a eliminar: \")\n",
    "        \n",
    "        if atributo == \"edad\":\n",
    "            valor = int(valor)\n",
    "        \n",
    "        filtro = {atributo: valor}\n",
    "        registro_eliminado = coleccion.find_one_and_delete(filtro)\n",
    "        \n",
    "        if registro_eliminado:\n",
    "            print(\"Registro eliminado:\")\n",
    "            print(registro_eliminado)\n",
    "        else:\n",
    "            print(\"No se encontró un registro con ese valor.\")\n",
    "        \n",
    "        continuar = input(\"¿Desea realizar otra operación? (s/n): \")\n",
    "        if continuar.lower() != 's':\n",
    "            break\n",
    "\n",
    "eliminar_registro()"
   ]
  },
  {
   "cell_type": "markdown",
   "metadata": {},
   "source": [
    "14 - Eliminar varios registros de una Colección"
   ]
  },
  {
   "cell_type": "code",
   "execution_count": null,
   "metadata": {},
   "outputs": [
    {
     "name": "stdout",
     "output_type": "stream",
     "text": [
      "Operaciones disponibles:\n",
      "1. Eliminar registros por nombre\n",
      "2. Eliminar registros por apellidos\n",
      "3. Eliminar registros por edad\n",
      "4. Eliminar registros por área de interés\n",
      "5. Salir\n",
      "Registros a eliminar:\n",
      "{'_id': ObjectId('67364b97a71ac67efd5836e7'), 'nombre': 'ejemploborrar1', 'apellidos': 'ejemploborrar1', 'edad': 245, 'interes': 'SBD'}\n",
      "Registros eliminados: 1\n",
      "Operaciones disponibles:\n",
      "1. Eliminar registros por nombre\n",
      "2. Eliminar registros por apellidos\n",
      "3. Eliminar registros por edad\n",
      "4. Eliminar registros por área de interés\n",
      "5. Salir\n",
      "Registros a eliminar:\n",
      "{'_id': ObjectId('67364a8ca71ac67efd5836e5'), 'nombre': 'ejemploborrar2', 'apellidos': 'ejemploborrar2', 'edad': 99, 'interes': 'SBD'}\n",
      "Registros eliminados: 1\n"
     ]
    }
   ],
   "source": [
    "def eliminar_varios_registros():\n",
    "    while True:\n",
    "        print(\"Operaciones disponibles:\")\n",
    "        print(\"1. Eliminar registros por nombre\")\n",
    "        print(\"2. Eliminar registros por apellidos\")\n",
    "        print(\"3. Eliminar registros por edad\")\n",
    "        print(\"4. Eliminar registros por área de interés\")\n",
    "        print(\"5. Salir\")\n",
    "        \n",
    "        operacion = input(\"Ingrese el número de la operación que desea realizar: \")\n",
    "        \n",
    "        if operacion == '1':\n",
    "            atributo = \"nombre\"\n",
    "        elif operacion == '2':\n",
    "            atributo = \"apellidos\"\n",
    "        elif operacion == '3':\n",
    "            atributo = \"edad\"\n",
    "        elif operacion == '4':\n",
    "            atributo = \"interes\"\n",
    "        elif operacion == '5':\n",
    "            break\n",
    "        else:\n",
    "            print(\"Operación no válida. Intente de nuevo.\")\n",
    "            continue\n",
    "        \n",
    "        valor = input(f\"Ingrese el valor del atributo {atributo} de los registros a eliminar: \")\n",
    "        \n",
    "        if atributo == \"edad\":\n",
    "            valor = int(valor)\n",
    "        \n",
    "        filtro = {atributo: valor}\n",
    "        try:\n",
    "            registros_eliminados = list(coleccion.find(filtro))\n",
    "            \n",
    "            if registros_eliminados:\n",
    "                print(\"Registros a eliminar:\")\n",
    "                for registro in registros_eliminados:\n",
    "                    print(registro)\n",
    "                \n",
    "                confirmacion = input(\"¿Está seguro que desea eliminar estos registros? (s/n): \")\n",
    "                if confirmacion.lower() == 's':\n",
    "                    resultado = coleccion.delete_many(filtro)\n",
    "                    print(f\"Registros eliminados: {resultado.deleted_count}\")\n",
    "                else:\n",
    "                    print(\"Operación cancelada.\")\n",
    "            else:\n",
    "                print(\"No se encontraron registros con ese valor.\")\n",
    "        except Exception as e:\n",
    "            print(f\"Error al eliminar registros: {e}\")\n",
    "        \n",
    "        continuar = input(\"¿Desea realizar otra operación? (s/n): \")\n",
    "        if continuar.lower() != 's':\n",
    "            break\n",
    "\n",
    "eliminar_varios_registros()"
   ]
  },
  {
   "cell_type": "markdown",
   "metadata": {},
   "source": [
    "15 - Realiza una búsqueda y ordenala de forma ascedente"
   ]
  },
  {
   "cell_type": "code",
   "execution_count": 11,
   "metadata": {},
   "outputs": [
    {
     "name": "stdout",
     "output_type": "stream",
     "text": [
      "Operaciones disponibles:\n",
      "1. Buscar y ordenar por nombre\n",
      "2. Buscar y ordenar por apellidos\n",
      "3. Buscar y ordenar por edad\n",
      "4. Buscar y ordenar por área de interés\n",
      "5. Salir\n",
      "Registros encontrados y ordenados:\n",
      "{'_id': ObjectId('67363222152cde97c61b77b9'), 'nombre': 'Alvaro', 'apellidos': 'Gonzalez Gonzalez', 'edad': 33, 'interes': 'Analisis de datos'}\n",
      "{'_id': ObjectId('6736420cc5ec331ee35633a3'), 'nombre': 'Roberto', 'apellidos': 'Martinez Olmedo', 'edad': None, 'interes': 'Analisis de datos'}\n"
     ]
    }
   ],
   "source": [
    "def buscar_y_ordenar():\n",
    "    while True:\n",
    "        print(\"Operaciones disponibles:\")\n",
    "        print(\"1. Buscar y ordenar por nombre\")\n",
    "        print(\"2. Buscar y ordenar por apellidos\")\n",
    "        print(\"3. Buscar y ordenar por edad\")\n",
    "        print(\"4. Buscar y ordenar por área de interés\")\n",
    "        print(\"5. Salir\")\n",
    "        \n",
    "        operacion = input(\"Ingrese el número de la operación que desea realizar: \")\n",
    "        \n",
    "        if operacion == '1':\n",
    "            atributo = \"nombre\"\n",
    "        elif operacion == '2':\n",
    "            atributo = \"apellidos\"\n",
    "        elif operacion == '3':\n",
    "            atributo = \"edad\"\n",
    "        elif operacion == '4':\n",
    "            atributo = \"interes\"\n",
    "        elif operacion == '5':\n",
    "            break\n",
    "        else:\n",
    "            print(\"Operación no válida. Intente de nuevo.\")\n",
    "            continue\n",
    "        \n",
    "        valor = input(f\"Ingrese el valor del atributo {atributo} que desea buscar: \")\n",
    "        \n",
    "        if atributo == \"edad\":\n",
    "            valor = int(valor)\n",
    "        \n",
    "        filtro = {atributo: valor}\n",
    "        try:\n",
    "            registros = coleccion.find(filtro).sort(atributo, 1)\n",
    "            \n",
    "            registros_encontrados = list(registros)\n",
    "            if registros_encontrados:\n",
    "                print(\"Registros encontrados y ordenados:\")\n",
    "                for registro in registros_encontrados:\n",
    "                    print(registro)\n",
    "            else:\n",
    "                print(\"No se encontraron registros con ese valor.\")\n",
    "        except Exception as e:\n",
    "            print(f\"Error al buscar y ordenar registros: {e}\")\n",
    "        \n",
    "        continuar = input(\"¿Desea realizar otra operación? (s/n): \")\n",
    "        if continuar.lower() != 's':\n",
    "            break\n",
    "\n",
    "buscar_y_ordenar()"
   ]
  },
  {
   "cell_type": "markdown",
   "metadata": {},
   "source": [
    "16 - Realiza una búsqueda y ordenala de forma descendente"
   ]
  },
  {
   "cell_type": "code",
   "execution_count": 15,
   "metadata": {},
   "outputs": [
    {
     "name": "stdout",
     "output_type": "stream",
     "text": [
      "Operaciones disponibles:\n",
      "1. Buscar y ordenar por nombre\n",
      "2. Buscar y ordenar por apellidos\n",
      "3. Buscar y ordenar por edad\n",
      "4. Buscar y ordenar por área de interés\n",
      "5. Salir\n",
      "Registros encontrados y ordenados:\n",
      "{'_id': ObjectId('67363222152cde97c61b77b9'), 'nombre': 'Alvaro', 'apellidos': 'Gonzalez Gonzalez', 'edad': 33, 'interes': 'Analisis de datos'}\n",
      "{'_id': ObjectId('6736420cc5ec331ee35633a3'), 'nombre': 'Roberto', 'apellidos': 'Martinez Olmedo', 'edad': None, 'interes': 'Analisis de datos'}\n",
      "{'_id': ObjectId('67364e2ba71ac67efd5836e8'), 'nombre': 'Pedro', 'apellidos': 'Rodriguez', 'edad': 29, 'interes': 'Analisis de datos'}\n",
      "{'_id': ObjectId('67364e2ba71ac67efd5836e9'), 'nombre': 'Luis', 'apellidos': 'Perez', 'edad': 32, 'interes': 'Analisis de datos'}\n",
      "{'_id': ObjectId('67364e2ba71ac67efd5836ea'), 'nombre': 'Ana', 'apellidos': 'Gonzalez', 'edad': 51, 'interes': 'Analisis de datos'}\n",
      "{'_id': ObjectId('67364e2ba71ac67efd5836eb'), 'nombre': 'Pedro', 'apellidos': 'Sanchez', 'edad': 20, 'interes': 'Analisis de datos'}\n",
      "{'_id': ObjectId('67364e2ba71ac67efd5836ec'), 'nombre': 'Ana', 'apellidos': 'Sanchez', 'edad': 31, 'interes': 'Analisis de datos'}\n",
      "{'_id': ObjectId('67364e2ba71ac67efd5836ed'), 'nombre': 'Carlos', 'apellidos': 'Garcia', 'edad': 26, 'interes': 'Analisis de datos'}\n",
      "{'_id': ObjectId('67364e2ba71ac67efd5836ee'), 'nombre': 'Pedro', 'apellidos': 'Sanchez', 'edad': 21, 'interes': 'Analisis de datos'}\n",
      "{'_id': ObjectId('67364e2ba71ac67efd5836ef'), 'nombre': 'Laura', 'apellidos': 'Perez', 'edad': 47, 'interes': 'Analisis de datos'}\n",
      "{'_id': ObjectId('67364e2ba71ac67efd5836f0'), 'nombre': 'Jose', 'apellidos': 'Rodriguez', 'edad': 39, 'interes': 'Analisis de datos'}\n",
      "{'_id': ObjectId('67364e2ba71ac67efd5836f1'), 'nombre': 'Juan', 'apellidos': 'Fernandez', 'edad': 29, 'interes': 'Analisis de datos'}\n"
     ]
    }
   ],
   "source": [
    "def buscar_y_ordenar_descendente():\n",
    "    while True:\n",
    "        print(\"Operaciones disponibles:\")\n",
    "        print(\"1. Buscar y ordenar por nombre\")\n",
    "        print(\"2. Buscar y ordenar por apellidos\")\n",
    "        print(\"3. Buscar y ordenar por edad\")\n",
    "        print(\"4. Buscar y ordenar por área de interés\")\n",
    "        print(\"5. Salir\")\n",
    "        \n",
    "        operacion = input(\"Ingrese el número de la operación que desea realizar: \")\n",
    "        \n",
    "        if operacion == '1':\n",
    "            atributo = \"nombre\"\n",
    "        elif operacion == '2':\n",
    "            atributo = \"apellidos\"\n",
    "        elif operacion == '3':\n",
    "            atributo = \"edad\"\n",
    "        elif operacion == '4':\n",
    "            atributo = \"interes\"\n",
    "        elif operacion == '5':\n",
    "            break\n",
    "        else:\n",
    "            print(\"Operación no válida. Intente de nuevo.\")\n",
    "            continue\n",
    "        \n",
    "        valor = input(f\"Ingrese el valor del atributo {atributo} que desea buscar: \")\n",
    "        \n",
    "        if atributo == \"edad\":\n",
    "            valor = int(valor)\n",
    "        \n",
    "        filtro = {atributo: valor}\n",
    "        try:\n",
    "            registros = coleccion.find(filtro).sort(atributo, -1)\n",
    "            \n",
    "            registros_encontrados = list(registros)\n",
    "            if registros_encontrados:\n",
    "                print(\"Registros encontrados y ordenados:\")\n",
    "                for registro in registros_encontrados:\n",
    "                    print(registro)\n",
    "            else:\n",
    "                print(\"No se encontraron registros con ese valor.\")\n",
    "        except Exception as e:\n",
    "            print(f\"Error al buscar y ordenar registros: {e}\")\n",
    "        \n",
    "        continuar = input(\"¿Desea realizar otra operación? (s/n): \")\n",
    "        if continuar.lower() != 's':\n",
    "            break\n",
    "\n",
    "buscar_y_ordenar_descendente()"
   ]
  },
  {
   "cell_type": "markdown",
   "metadata": {},
   "source": [
    "17 - Realiza una búsqueda que este limitada por 10 registros"
   ]
  },
  {
   "cell_type": "code",
   "execution_count": 14,
   "metadata": {},
   "outputs": [
    {
     "name": "stdout",
     "output_type": "stream",
     "text": [
      "Operaciones disponibles:\n",
      "1. Buscar por nombre\n",
      "2. Buscar por apellidos\n",
      "3. Buscar por edad\n",
      "4. Buscar por área de interés\n",
      "5. Salir\n",
      "Registros encontrados (limitados a 10):\n",
      "{'_id': ObjectId('67363222152cde97c61b77b9'), 'nombre': 'Alvaro', 'apellidos': 'Gonzalez Gonzalez', 'edad': 33, 'interes': 'Analisis de datos'}\n",
      "{'_id': ObjectId('6736420cc5ec331ee35633a3'), 'nombre': 'Roberto', 'apellidos': 'Martinez Olmedo', 'edad': None, 'interes': 'Analisis de datos'}\n",
      "{'_id': ObjectId('67364e2ba71ac67efd5836e8'), 'nombre': 'Pedro', 'apellidos': 'Rodriguez', 'edad': 29, 'interes': 'Analisis de datos'}\n",
      "{'_id': ObjectId('67364e2ba71ac67efd5836e9'), 'nombre': 'Luis', 'apellidos': 'Perez', 'edad': 32, 'interes': 'Analisis de datos'}\n",
      "{'_id': ObjectId('67364e2ba71ac67efd5836ea'), 'nombre': 'Ana', 'apellidos': 'Gonzalez', 'edad': 51, 'interes': 'Analisis de datos'}\n",
      "{'_id': ObjectId('67364e2ba71ac67efd5836eb'), 'nombre': 'Pedro', 'apellidos': 'Sanchez', 'edad': 20, 'interes': 'Analisis de datos'}\n",
      "{'_id': ObjectId('67364e2ba71ac67efd5836ec'), 'nombre': 'Ana', 'apellidos': 'Sanchez', 'edad': 31, 'interes': 'Analisis de datos'}\n",
      "{'_id': ObjectId('67364e2ba71ac67efd5836ed'), 'nombre': 'Carlos', 'apellidos': 'Garcia', 'edad': 26, 'interes': 'Analisis de datos'}\n",
      "{'_id': ObjectId('67364e2ba71ac67efd5836ee'), 'nombre': 'Pedro', 'apellidos': 'Sanchez', 'edad': 21, 'interes': 'Analisis de datos'}\n",
      "{'_id': ObjectId('67364e2ba71ac67efd5836ef'), 'nombre': 'Laura', 'apellidos': 'Perez', 'edad': 47, 'interes': 'Analisis de datos'}\n"
     ]
    }
   ],
   "source": [
    "def buscar_con_limite():\n",
    "    while True:\n",
    "        print(\"Operaciones disponibles:\")\n",
    "        print(\"1. Buscar por nombre\")\n",
    "        print(\"2. Buscar por apellidos\")\n",
    "        print(\"3. Buscar por edad\")\n",
    "        print(\"4. Buscar por área de interés\")\n",
    "        print(\"5. Salir\")\n",
    "        \n",
    "        operacion = input(\"Ingrese el número de la operación que desea realizar: \")\n",
    "        \n",
    "        if operacion == '1':\n",
    "            atributo = \"nombre\"\n",
    "        elif operacion == '2':\n",
    "            atributo = \"apellidos\"\n",
    "        elif operacion == '3':\n",
    "            atributo = \"edad\"\n",
    "        elif operacion == '4':\n",
    "            atributo = \"interes\"\n",
    "        elif operacion == '5':\n",
    "            break\n",
    "        else:\n",
    "            print(\"Operación no válida. Intente de nuevo.\")\n",
    "            continue\n",
    "        \n",
    "        valor = input(f\"Ingrese el valor del atributo {atributo} que desea buscar: \")\n",
    "        \n",
    "        if atributo == \"edad\":\n",
    "            valor = int(valor)\n",
    "        \n",
    "        filtro = {atributo: valor}\n",
    "        try:\n",
    "            registros = coleccion.find(filtro).limit(10)\n",
    "            \n",
    "            registros_encontrados = list(registros)\n",
    "            if registros_encontrados:\n",
    "                print(\"Registros encontrados (limitados a 10):\")\n",
    "                for registro in registros_encontrados:\n",
    "                    print(registro)\n",
    "            else:\n",
    "                print(\"No se encontraron registros con ese valor.\")\n",
    "        except Exception as e:\n",
    "            print(f\"Error al buscar registros: {e}\")\n",
    "        \n",
    "        continuar = input(\"¿Desea realizar otra operación? (s/n): \")\n",
    "        if continuar.lower() != 's':\n",
    "            break\n",
    "\n",
    "buscar_con_limite()"
   ]
  },
  {
   "cell_type": "markdown",
   "metadata": {},
   "source": [
    "18 - Realizar una operación que filtre por una expresión regular"
   ]
  },
  {
   "cell_type": "code",
   "execution_count": 17,
   "metadata": {},
   "outputs": [
    {
     "name": "stdout",
     "output_type": "stream",
     "text": [
      "Operaciones disponibles:\n",
      "1. Buscar por nombre\n",
      "2. Buscar por apellidos\n",
      "3. Buscar por área de interés\n",
      "4. Salir\n",
      "Registros encontrados:\n",
      "{'_id': ObjectId('67363222152cde97c61b77b9'), 'nombre': 'Alvaro', 'apellidos': 'Gonzalez Gonzalez', 'edad': 33, 'interes': 'Analisis de datos'}\n",
      "{'_id': ObjectId('6736420cc5ec331ee35633a3'), 'nombre': 'Roberto', 'apellidos': 'Martinez Olmedo', 'edad': None, 'interes': 'Analisis de datos'}\n",
      "{'_id': ObjectId('67364e2ba71ac67efd5836e8'), 'nombre': 'Pedro', 'apellidos': 'Rodriguez', 'edad': 29, 'interes': 'Analisis de datos'}\n",
      "{'_id': ObjectId('67364e2ba71ac67efd5836e9'), 'nombre': 'Luis', 'apellidos': 'Perez', 'edad': 32, 'interes': 'Analisis de datos'}\n",
      "{'_id': ObjectId('67364e2ba71ac67efd5836ea'), 'nombre': 'Ana', 'apellidos': 'Gonzalez', 'edad': 51, 'interes': 'Analisis de datos'}\n",
      "{'_id': ObjectId('67364e2ba71ac67efd5836eb'), 'nombre': 'Pedro', 'apellidos': 'Sanchez', 'edad': 20, 'interes': 'Analisis de datos'}\n",
      "{'_id': ObjectId('67364e2ba71ac67efd5836ec'), 'nombre': 'Ana', 'apellidos': 'Sanchez', 'edad': 31, 'interes': 'Analisis de datos'}\n",
      "{'_id': ObjectId('67364e2ba71ac67efd5836ed'), 'nombre': 'Carlos', 'apellidos': 'Garcia', 'edad': 26, 'interes': 'Analisis de datos'}\n",
      "{'_id': ObjectId('67364e2ba71ac67efd5836ee'), 'nombre': 'Pedro', 'apellidos': 'Sanchez', 'edad': 21, 'interes': 'Analisis de datos'}\n",
      "{'_id': ObjectId('67364e2ba71ac67efd5836ef'), 'nombre': 'Laura', 'apellidos': 'Perez', 'edad': 47, 'interes': 'Analisis de datos'}\n",
      "{'_id': ObjectId('67364e2ba71ac67efd5836f0'), 'nombre': 'Jose', 'apellidos': 'Rodriguez', 'edad': 39, 'interes': 'Analisis de datos'}\n",
      "{'_id': ObjectId('67364e2ba71ac67efd5836f1'), 'nombre': 'Juan', 'apellidos': 'Fernandez', 'edad': 29, 'interes': 'Analisis de datos'}\n",
      "Operaciones disponibles:\n",
      "1. Buscar por nombre\n",
      "2. Buscar por apellidos\n",
      "3. Buscar por área de interés\n",
      "4. Salir\n",
      "Registros encontrados:\n",
      "{'_id': ObjectId('67363222152cde97c61b77ba'), 'nombre': 'Ana', 'apellidos': 'Villanueva Villavieja', 'edad': 20, 'interes': 'Ciencia de datos'}\n",
      "{'_id': ObjectId('67364e2ba71ac67efd5836ea'), 'nombre': 'Ana', 'apellidos': 'Gonzalez', 'edad': 51, 'interes': 'Analisis de datos'}\n",
      "{'_id': ObjectId('67364e2ba71ac67efd5836ec'), 'nombre': 'Ana', 'apellidos': 'Sanchez', 'edad': 31, 'interes': 'Analisis de datos'}\n"
     ]
    }
   ],
   "source": [
    "def buscar_por_expresion_regular():\n",
    "    while True:\n",
    "        print(\"Operaciones disponibles:\")\n",
    "        print(\"1. Buscar por nombre\")\n",
    "        print(\"2. Buscar por apellidos\")\n",
    "        print(\"3. Buscar por área de interés\")\n",
    "        print(\"4. Salir\")\n",
    "        \n",
    "        operacion = input(\"Ingrese el número de la operación que desea realizar: \")\n",
    "        \n",
    "        if operacion == '1':\n",
    "            atributo = \"nombre\"\n",
    "        elif operacion == '2':\n",
    "            atributo = \"apellidos\"\n",
    "        elif operacion == '3':\n",
    "            atributo = \"interes\"\n",
    "        elif operacion == '4':\n",
    "            break\n",
    "        else:\n",
    "            print(\"Operación no válida. Intente de nuevo.\")\n",
    "            continue\n",
    "        \n",
    "        expresion_regular = input(f\"Ingrese la expresión regular para buscar en el atributo {atributo}: \")\n",
    "        \n",
    "        filtro = {atributo: {\"$regex\": expresion_regular, \"$options\": \"i\"}}\n",
    "        try:\n",
    "            registros = coleccion.find(filtro)\n",
    "            \n",
    "            registros_encontrados = list(registros)\n",
    "            if registros_encontrados:\n",
    "                print(\"Registros encontrados:\")\n",
    "                for registro in registros_encontrados:\n",
    "                    print(registro)\n",
    "            else:\n",
    "                print(\"No se encontraron registros con esa expresión regular.\")\n",
    "        except Exception as e:\n",
    "            print(f\"Error al buscar registros: {e}\")\n",
    "        \n",
    "        continuar = input(\"¿Desea realizar otra operación? (s/n): \")\n",
    "        if continuar.lower() != 's':\n",
    "            break\n",
    "\n",
    "buscar_por_expresion_regular()"
   ]
  },
  {
   "cell_type": "markdown",
   "metadata": {},
   "source": [
    "19 - Realizar una operación que filtre una operación de tipo Array"
   ]
  },
  {
   "cell_type": "code",
   "execution_count": null,
   "metadata": {},
   "outputs": [
    {
     "name": "stdout",
     "output_type": "stream",
     "text": [
      "Operaciones disponibles:\n",
      "1. Filtrar registros donde un atributo array contenga un valor específico\n",
      "2. Filtrar registros donde un atributo array tenga un tamaño específico\n",
      "3. Salir\n",
      "No se encontraron registros con ese filtro.\n"
     ]
    }
   ],
   "source": [
    "def operaciones_array():\n",
    "    while True:\n",
    "        print(\"Operaciones disponibles:\")\n",
    "        print(\"1. Filtrar registros donde un atributo array contenga un valor específico\")\n",
    "        print(\"2. Salir\")\n",
    "        \n",
    "        operacion = input(\"Ingrese el número de la operación que desea realizar: \")\n",
    "        \n",
    "        if operacion == '1':\n",
    "            atributo = input(\"Ingrese el nombre del atributo array: \")\n",
    "            valor = input(f\"Ingrese el valor que debe contener el atributo {atributo}: \")\n",
    "            filtro = {atributo: valor}\n",
    "        elif operacion == '2':\n",
    "            break\n",
    "        else:\n",
    "            print(\"Operación no válida. Intente de nuevo.\")\n",
    "            continue\n",
    "        \n",
    "        try:\n",
    "            registros = coleccion.find(filtro)\n",
    "            registros_encontrados = list(registros)\n",
    "            if registros_encontrados:\n",
    "                print(\"Registros encontrados:\")\n",
    "                for registro in registros_encontrados:\n",
    "                    print(registro)\n",
    "            else:\n",
    "                print(\"No se encontraron registros con ese filtro.\")\n",
    "        except Exception as e:\n",
    "            print(f\"Error al buscar registros: {e}\")\n",
    "        \n",
    "        continuar = input(\"¿Desea realizar otra operación? (s/n): \")\n",
    "        if continuar.lower() != 's':\n",
    "            break\n",
    "\n",
    "operaciones_array()\n"
   ]
  },
  {
   "cell_type": "markdown",
   "metadata": {},
   "source": [
    "20 - Realizar una operación que filtre una operación de tipo Evaluation, que no sea regex"
   ]
  },
  {
   "cell_type": "code",
   "execution_count": 37,
   "metadata": {},
   "outputs": [
    {
     "name": "stdout",
     "output_type": "stream",
     "text": [
      "Operaciones disponibles:\n",
      "1. Filtrar registros donde un atributo numérico sea divisible por un valor específico\n",
      "2. Salir\n",
      "Registros encontrados:\n",
      "{'_id': ObjectId('67362f51152cde97c61b77b8'), 'nombre': 'Feliciano', 'apellidos': 'Villuela Martinez', 'edad': 23, 'interes': 'No tengo interes\"\"Los coches', 'educacion': 'Master en IA y Big Data'}\n",
      "{'_id': ObjectId('67363222152cde97c61b77b9'), 'nombre': 'Alvaro', 'apellidos': 'Gonzalez Gonzalez', 'edad': 33, 'interes': 'Analisis de datos'}\n",
      "{'_id': ObjectId('67363222152cde97c61b77ba'), 'nombre': 'Ana', 'apellidos': 'Villanueva Villavieja', 'edad': 20, 'interes': 'Ciencia de datos'}\n",
      "{'_id': ObjectId('67364e2ba71ac67efd5836e8'), 'nombre': 'Pedro', 'apellidos': 'Rodriguez', 'edad': 29, 'interes': 'Analisis de datos'}\n",
      "{'_id': ObjectId('67364e2ba71ac67efd5836e9'), 'nombre': 'Luis', 'apellidos': 'Perez', 'edad': 32, 'interes': 'Analisis de datos'}\n",
      "{'_id': ObjectId('67364e2ba71ac67efd5836ea'), 'nombre': 'Ana', 'apellidos': 'Gonzalez', 'edad': 51, 'interes': 'Analisis de datos'}\n",
      "{'_id': ObjectId('67364e2ba71ac67efd5836eb'), 'nombre': 'Pedro', 'apellidos': 'Sanchez', 'edad': 20, 'interes': 'Analisis de datos'}\n",
      "{'_id': ObjectId('67364e2ba71ac67efd5836ec'), 'nombre': 'Ana', 'apellidos': 'Sanchez', 'edad': 31, 'interes': 'Analisis de datos'}\n",
      "{'_id': ObjectId('67364e2ba71ac67efd5836ed'), 'nombre': 'Carlos', 'apellidos': 'Garcia', 'edad': 26, 'interes': 'Analisis de datos'}\n",
      "{'_id': ObjectId('67364e2ba71ac67efd5836ee'), 'nombre': 'Pedro', 'apellidos': 'Sanchez', 'edad': 21, 'interes': 'Analisis de datos'}\n",
      "{'_id': ObjectId('67364e2ba71ac67efd5836ef'), 'nombre': 'Laura', 'apellidos': 'Perez', 'edad': 47, 'interes': 'Analisis de datos'}\n",
      "{'_id': ObjectId('67364e2ba71ac67efd5836f0'), 'nombre': 'Jose', 'apellidos': 'Rodriguez', 'edad': 39, 'interes': 'Analisis de datos'}\n",
      "{'_id': ObjectId('67364e2ba71ac67efd5836f1'), 'nombre': 'Juan', 'apellidos': 'Fernandez', 'edad': 29, 'interes': 'Analisis de datos'}\n"
     ]
    }
   ],
   "source": [
    "def operaciones_evaluacion():\n",
    "    while True:\n",
    "        print(\"Operaciones disponibles:\")\n",
    "        print(\"1. Filtrar registros donde un atributo numérico sea divisible por un valor específico\")\n",
    "        print(\"2. Salir\")\n",
    "        \n",
    "        operacion = input(\"Ingrese el número de la operación que desea realizar: \")\n",
    "        \n",
    "        if operacion == '1':\n",
    "            atributo = input(\"Ingrese el nombre del atributo numérico: \")\n",
    "            divisor = int(input(f\"Ingrese el valor por el cual debe ser divisible el atributo {atributo}: \"))\n",
    "            filtro = {atributo: {\"$mod\": [divisor, 0]}}\n",
    "        elif operacion == '2':\n",
    "            break\n",
    "        else:\n",
    "            print(\"Operación no válida. Intente de nuevo.\")\n",
    "            continue\n",
    "        \n",
    "        try:\n",
    "            registros = coleccion.find(filtro)\n",
    "            registros_encontrados = list(registros)\n",
    "            if registros_encontrados:\n",
    "                print(\"Registros encontrados:\")\n",
    "                for registro in registros_encontrados:\n",
    "                    print(registro)\n",
    "            else:\n",
    "                print(\"No se encontraron registros con ese filtro.\")\n",
    "        except Exception as e:\n",
    "            print(f\"Error al buscar registros: {e}\")\n",
    "        \n",
    "        continuar = input(\"¿Desea realizar otra operación? (s/n): \")\n",
    "        if continuar.lower() != 's':\n",
    "            break\n",
    "\n",
    "operaciones_evaluacion()"
   ]
  }
 ],
 "metadata": {
  "kernelspec": {
   "display_name": "mongoDB-env",
   "language": "python",
   "name": "python3"
  },
  "language_info": {
   "codemirror_mode": {
    "name": "ipython",
    "version": 3
   },
   "file_extension": ".py",
   "mimetype": "text/x-python",
   "name": "python",
   "nbconvert_exporter": "python",
   "pygments_lexer": "ipython3",
   "version": "3.12.4"
  }
 },
 "nbformat": 4,
 "nbformat_minor": 2
}
