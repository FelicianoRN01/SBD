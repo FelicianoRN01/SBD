{
 "cells": [
  {
   "cell_type": "code",
   "execution_count": 1,
   "metadata": {},
   "outputs": [
    {
     "name": "stdout",
     "output_type": "stream",
     "text": [
      "Instancias EC2:\n",
      "- ID: i-00814784d7c10c4ef, Estado: running\n",
      "- ID: i-033bb8b829a8a3e6d, Estado: running\n",
      "Buckets S3:\n",
      "- prueba010206\n"
     ]
    }
   ],
   "source": [
    "import boto3\n",
    "\n",
    "# Crear cliente de EC2\n",
    "ec2_client = boto3.client('ec2', region_name='us-east-1')\n",
    "\n",
    "# Listar instancias EC2\n",
    "try:\n",
    "    response = ec2_client.describe_instances()\n",
    "    instances = response.get('Reservations', [])\n",
    "    print(\"Instancias EC2:\")\n",
    "    for reservation in instances:\n",
    "        for instance in reservation.get('Instances', []):\n",
    "            print(f\"- ID: {instance['InstanceId']}, Estado: {instance['State']['Name']}\")\n",
    "except Exception as e:\n",
    "    print(\"Error al listar instancias EC2:\", str(e))\n",
    "\n",
    "# Crear cliente de S3\n",
    "s3_client = boto3.client('s3', region_name='us-east-1')\n",
    "\n",
    "# Listar buckets S3\n",
    "try:\n",
    "    response = s3_client.list_buckets()\n",
    "    buckets = response.get('Buckets', [])\n",
    "    print(\"Buckets S3:\")\n",
    "    for bucket in buckets:\n",
    "        print(f\"- {bucket['Name']}\")\n",
    "except Exception as e:\n",
    "    print(\"Error al listar buckets S3:\", str(e))"
   ]
  },
  {
   "cell_type": "markdown",
   "metadata": {},
   "source": [
    "## Crear una instancia EC2, ejecutarla, pararla y eliminarla"
   ]
  },
  {
   "cell_type": "code",
   "execution_count": null,
   "metadata": {},
   "outputs": [
    {
     "name": "stdout",
     "output_type": "stream",
     "text": [
      "Instancia EC2 creada con ID: i-0ea578e385c946d04\n"
     ]
    }
   ],
   "source": [
    "# Crear una instancia EC2\n",
    "try:\n",
    "    ec2_response = ec2_client.run_instances(\n",
    "        ImageId='ami-053a45fff0a704a47',  # Reemplaza con el ID de la AMI que desees usar\n",
    "        InstanceType='t2.micro',  # Tipo de instancia t2.micro\n",
    "        KeyName='prueba',  # Nombre de la llave para acceder a la instancia(Creado otro dia en clase)\n",
    "        MinCount=1,\n",
    "        MaxCount=1,\n",
    "        Placement={\n",
    "            'AvailabilityZone': 'us-east-1d'  # Zona de disponibilidad\n",
    "        },\n",
    "        TagSpecifications=[\n",
    "            {\n",
    "                'ResourceType': 'instance',\n",
    "                'Tags': [\n",
    "                    {\n",
    "                        'Key': 'Name',\n",
    "                        'Value': 'tarea_almacenamiento'\n",
    "                    }\n",
    "                ]\n",
    "            }\n",
    "        ]\n",
    "    )\n",
    "    instance_id = ec2_response['Instances'][0]['InstanceId']\n",
    "    print(f\"Instancia EC2 creada con ID: {instance_id}\")\n",
    "except Exception as e:\n",
    "    print(\"Error al crear la instancia EC2:\", str(e))"
   ]
  },
  {
   "cell_type": "code",
   "execution_count": 24,
   "metadata": {},
   "outputs": [
    {
     "name": "stdout",
     "output_type": "stream",
     "text": [
      "Instancia EC2 i-0ea578e385c946d04 iniciada\n"
     ]
    }
   ],
   "source": [
    "# Ejecutar la instancia EC2\n",
    "try:\n",
    "    ec2_client.start_instances(InstanceIds=[instance_id])\n",
    "    print(f\"Instancia EC2 {instance_id} iniciada\")\n",
    "except Exception as e:\n",
    "    print(\"Error al iniciar la instancia EC2:\", str(e))"
   ]
  },
  {
   "cell_type": "code",
   "execution_count": 12,
   "metadata": {},
   "outputs": [
    {
     "name": "stdout",
     "output_type": "stream",
     "text": [
      "Instancia EC2 i-0f5a04458c56f58b3 parada\n"
     ]
    }
   ],
   "source": [
    "# Parar la instancia EC2\n",
    "try:\n",
    "    ec2_client.stop_instances(InstanceIds=[instance_id])\n",
    "    print(f\"Instancia EC2 {instance_id} parada\")\n",
    "except Exception as e:\n",
    "    print(\"Error al parar la instancia EC2:\", str(e))"
   ]
  },
  {
   "cell_type": "code",
   "execution_count": 13,
   "metadata": {},
   "outputs": [
    {
     "name": "stdout",
     "output_type": "stream",
     "text": [
      "Instancia EC2 i-0f5a04458c56f58b3 eliminada\n"
     ]
    }
   ],
   "source": [
    "# Eliminar la instancia EC2\n",
    "try:\n",
    "    ec2_client.terminate_instances(InstanceIds=[instance_id])\n",
    "    print(f\"Instancia EC2 {instance_id} eliminada\")\n",
    "except Exception as e:\n",
    "    print(\"Error al eliminar la instancia EC2:\", str(e))"
   ]
  },
  {
   "cell_type": "markdown",
   "metadata": {},
   "source": [
    "## Crear un EBS y asociarlo al EC2 anterior y añadir un archivo"
   ]
  },
  {
   "cell_type": "code",
   "execution_count": null,
   "metadata": {},
   "outputs": [
    {
     "name": "stdout",
     "output_type": "stream",
     "text": [
      "Volumen EBS creado con ID: vol-03a8f2727436c4782\n"
     ]
    }
   ],
   "source": [
    "import time\n",
    "import paramiko\n",
    "\n",
    "# Crear un volumen EBS\n",
    "try:\n",
    "    volume_response = ec2_client.create_volume(\n",
    "        AvailabilityZone='us-east-1d',  # Zona de disponibilidad de la instancia EC2\n",
    "        Size=1,  # Tamaño del volumen en GB\n",
    "        VolumeType='gp2',  # Tipo de volumen\n",
    "        TagSpecifications=[\n",
    "            {\n",
    "                'ResourceType': 'volume',\n",
    "                'Tags': [\n",
    "                    {\n",
    "                        'Key': 'Name',\n",
    "                        'Value': 'tarea_almacenamiento_ebs'\n",
    "                        },\n",
    "                        {\n",
    "                            'Key': 'AvailabilityZone',\n",
    "                            'Value': 'us-east-1d'\n",
    "                    }\n",
    "                ]\n",
    "            }\n",
    "        ]\n",
    "    )\n",
    "    volume_id = volume_response['VolumeId']\n",
    "    print(f\"Volumen EBS creado con ID: {volume_id}\")\n",
    "except Exception as e:\n",
    "    print(\"Error al crear el volumen EBS:\", str(e))\n",
    "\n",
    "# Esperar a que el volumen esté disponible\n",
    "while True:\n",
    "    volume_status = ec2_client.describe_volumes(VolumeIds=[volume_id])\n",
    "    if volume_status['Volumes'][0]['State'] == 'available':\n",
    "        break\n",
    "    time.sleep(5)"
   ]
  },
  {
   "cell_type": "code",
   "execution_count": 25,
   "metadata": {},
   "outputs": [
    {
     "name": "stdout",
     "output_type": "stream",
     "text": [
      "Error al asociar el volumen EBS a la instancia EC2: An error occurred (InvalidVolume.ZoneMismatch) when calling the AttachVolume operation: The volume 'vol-03a8f2727436c4782' is not in the same availability zone as instance 'i-0ea578e385c946d04'\n"
     ]
    }
   ],
   "source": [
    "# Asociar el volumen EBS a la instancia EC2\n",
    "try:\n",
    "    ec2_client.attach_volume(\n",
    "        VolumeId=volume_id,\n",
    "        InstanceId=instance_id,\n",
    "        Device='/dev/sdf'  # Dispositivo en el que se montará el volumen\n",
    "    )\n",
    "    print(f\"Volumen EBS {volume_id} asociado a la instancia EC2 {instance_id}\")\n",
    "except Exception as e:\n",
    "    print(\"Error al asociar el volumen EBS a la instancia EC2:\", str(e))"
   ]
  },
  {
   "cell_type": "code",
   "execution_count": null,
   "metadata": {},
   "outputs": [],
   "source": [
    "\n",
    "# Conectar a la instancia EC2 y montar el volumen\n",
    "# Este paso requiere acceso SSH a la instancia EC2\n",
    "# Puedes usar paramiko o cualquier otra librería para ejecutar comandos SSH en la instancia EC2\n",
    "\n",
    "# Configurar la conexión SSH\n",
    "key = paramiko.RSAKey(filename='prueba.pem')  # Reemplaza con la ruta a tu archivo de clave privada\n",
    "ssh_client = paramiko.SSHClient()\n",
    "ssh_client.set_missing_host_key_policy(paramiko.AutoAddPolicy())\n",
    "\n",
    "try:\n",
    "    ssh_client.connect(hostname='ec2-44-202-245-215.compute-1.amazonaws.com', username='ec2-user', pkey=key)  # Reemplaza con la dirección pública de tu instancia EC2\n",
    "\n",
    "    # Montar el volumen EBS\n",
    "    commands = [\n",
    "        'sudo mkfs -t ext4 /dev/xvdf',  # Formatear el volumen\n",
    "        'sudo mkdir /mnt/ebs',  # Crear un directorio para montar el volumen\n",
    "        'sudo mount /dev/xvdf /mnt/ebs',  # Montar el volumen\n",
    "        'echo \"Hello, EBS!\" | sudo tee /mnt/ebs/hello.txt'  # Crear un archivo en el volumen montado\n",
    "    ]\n",
    "    for command in commands:\n",
    "        stdin, stdout, stderr = ssh_client.exec_command(command)\n",
    "        print(stdout.read().decode())\n",
    "        print(stderr.read().decode())\n",
    "\n",
    "    print(\"Archivo creado en el volumen EBS montado\")\n",
    "except Exception as e:\n",
    "    print(\"Error al conectar a la instancia EC2 y montar el volumen EBS:\", str(e))\n",
    "finally:\n",
    "    ssh_client.close()"
   ]
  },
  {
   "cell_type": "markdown",
   "metadata": {},
   "source": [
    "## Crear un EFS, montarlo y añadir un archivo"
   ]
  },
  {
   "cell_type": "code",
   "execution_count": null,
   "metadata": {},
   "outputs": [],
   "source": []
  },
  {
   "cell_type": "markdown",
   "metadata": {},
   "source": [
    "## Crear un S3 Estándar, crear un cubo y añadir varias carpetas con un objeto que sea un archivo csv con varios datos para trabajar con él a posteriori y obtener le objeto"
   ]
  },
  {
   "cell_type": "code",
   "execution_count": null,
   "metadata": {},
   "outputs": [],
   "source": []
  },
  {
   "cell_type": "markdown",
   "metadata": {},
   "source": [
    "## Crear S3 Estándar - Acceso poco frecuente, crear un cubo y añadir un objeto y obtener le objeto"
   ]
  },
  {
   "cell_type": "code",
   "execution_count": null,
   "metadata": {},
   "outputs": [],
   "source": []
  },
  {
   "cell_type": "markdown",
   "metadata": {},
   "source": [
    "## Crear S3 Intelligent-Tiering, crear un cubo y añadir un objeto y obtener le objeto"
   ]
  },
  {
   "cell_type": "code",
   "execution_count": null,
   "metadata": {},
   "outputs": [],
   "source": []
  },
  {
   "cell_type": "markdown",
   "metadata": {},
   "source": [
    "## Crear S3 Glacier, crear un cubo y añadir un objeto y obtener le objeto"
   ]
  },
  {
   "cell_type": "code",
   "execution_count": null,
   "metadata": {},
   "outputs": [],
   "source": []
  },
  {
   "cell_type": "markdown",
   "metadata": {},
   "source": [
    "## Crear S3 Glacier Deep Archive, crear un cubo y añadir un objeto y obtener le objeto"
   ]
  },
  {
   "cell_type": "code",
   "execution_count": null,
   "metadata": {},
   "outputs": [],
   "source": []
  },
  {
   "cell_type": "markdown",
   "metadata": {},
   "source": [
    "## Hablitar el control de versiones de S3 mediante comandos y mostrar un ejemplo de un objeto modificado y mostrar dos versiones"
   ]
  },
  {
   "cell_type": "code",
   "execution_count": null,
   "metadata": {},
   "outputs": [],
   "source": []
  },
  {
   "cell_type": "markdown",
   "metadata": {},
   "source": [
    "## Realizar 3 consultas diferentes sobre el objeto .csv del S3 usando AWS Athena"
   ]
  },
  {
   "cell_type": "code",
   "execution_count": null,
   "metadata": {},
   "outputs": [],
   "source": []
  }
 ],
 "metadata": {
  "kernelspec": {
   "display_name": "Boto3-env",
   "language": "python",
   "name": "python3"
  },
  "language_info": {
   "codemirror_mode": {
    "name": "ipython",
    "version": 3
   },
   "file_extension": ".py",
   "mimetype": "text/x-python",
   "name": "python",
   "nbconvert_exporter": "python",
   "pygments_lexer": "ipython3",
   "version": "3.12.4"
  }
 },
 "nbformat": 4,
 "nbformat_minor": 2
}
