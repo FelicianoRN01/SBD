{
 "cells": [
  {
   "cell_type": "markdown",
   "metadata": {},
   "source": [
    "### Conexion con aws"
   ]
  },
  {
   "cell_type": "code",
   "execution_count": 3,
   "metadata": {},
   "outputs": [
    {
     "name": "stdout",
     "output_type": "stream",
     "text": [
      "Tablas en DynamoDB:\n",
      "- alumnos\n"
     ]
    }
   ],
   "source": [
    "import boto3\n",
    "\n",
    "# Crear cliente de DynamoDB\n",
    "dynamodb_client = boto3.client('dynamodb', region_name='us-east-1')\n",
    "\n",
    "# Listar tablas\n",
    "try:\n",
    "    response = dynamodb_client.list_tables()\n",
    "    tablas = response.get('TableNames', [])\n",
    "    print(\"Tablas en DynamoDB:\")\n",
    "    for tabla in tablas:\n",
    "        print(f\"- {tabla}\")\n",
    "except Exception as e:\n",
    "    print(\"Error al listar tablas:\", str(e))"
   ]
  },
  {
   "cell_type": "markdown",
   "metadata": {},
   "source": [
    "### 1 -Crear al menos 3 tablas con tres atributos cada una"
   ]
  },
  {
   "cell_type": "code",
   "execution_count": 5,
   "metadata": {},
   "outputs": [
    {
     "name": "stdout",
     "output_type": "stream",
     "text": [
      "Tablas creadas exitosamente.\n"
     ]
    }
   ],
   "source": [
    "# Crear tablas en DynamoDB\n",
    "try:\n",
    "    # Tabla 1\n",
    "    dynamodb_client.create_table(\n",
    "        TableName='Tabla1',\n",
    "        KeySchema=[\n",
    "            {'AttributeName': 'ID', 'KeyType': 'HASH'},  # Partition key\n",
    "            {'AttributeName': 'Nombre', 'KeyType': 'RANGE'}  # Sort key\n",
    "        ],\n",
    "        AttributeDefinitions=[\n",
    "            {'AttributeName': 'ID', 'AttributeType': 'S'},\n",
    "            {'AttributeName': 'Nombre', 'AttributeType': 'S'}\n",
    "        ],\n",
    "        ProvisionedThroughput={\n",
    "            'ReadCapacityUnits': 5,\n",
    "            'WriteCapacityUnits': 5\n",
    "        }\n",
    "    )\n",
    "\n",
    "    # Tabla 2\n",
    "    dynamodb_client.create_table(\n",
    "        TableName='Tabla2',\n",
    "        KeySchema=[\n",
    "            {'AttributeName': 'ID', 'KeyType': 'HASH'},  # Partition key\n",
    "            {'AttributeName': 'Apellido', 'KeyType': 'RANGE'}  # Sort key\n",
    "        ],\n",
    "        AttributeDefinitions=[\n",
    "            {'AttributeName': 'ID', 'AttributeType': 'S'},\n",
    "            {'AttributeName': 'Apellido', 'AttributeType': 'S'}\n",
    "        ],\n",
    "        ProvisionedThroughput={\n",
    "            'ReadCapacityUnits': 5,\n",
    "            'WriteCapacityUnits': 5\n",
    "        }\n",
    "    )\n",
    "\n",
    "    # Tabla 3\n",
    "    dynamodb_client.create_table(\n",
    "        TableName='Tabla3',\n",
    "        KeySchema=[\n",
    "            {'AttributeName': 'ID', 'KeyType': 'HASH'},  # Partition key\n",
    "            {'AttributeName': 'Fecha', 'KeyType': 'RANGE'}  # Sort key\n",
    "        ],\n",
    "        AttributeDefinitions=[\n",
    "            {'AttributeName': 'ID', 'AttributeType': 'S'},\n",
    "            {'AttributeName': 'Fecha', 'AttributeType': 'S'}\n",
    "        ],\n",
    "        ProvisionedThroughput={\n",
    "            'ReadCapacityUnits': 5,\n",
    "            'WriteCapacityUnits': 5\n",
    "        }\n",
    "    )\n",
    "\n",
    "    print(\"Tablas creadas exitosamente.\")\n",
    "except Exception as e:\n",
    "    print(\"Error al crear tablas:\", str(e))"
   ]
  }
 ],
 "metadata": {
  "kernelspec": {
   "display_name": "boto3-venv",
   "language": "python",
   "name": "python3"
  },
  "language_info": {
   "codemirror_mode": {
    "name": "ipython",
    "version": 3
   },
   "file_extension": ".py",
   "mimetype": "text/x-python",
   "name": "python",
   "nbconvert_exporter": "python",
   "pygments_lexer": "ipython3",
   "version": "3.12.4"
  }
 },
 "nbformat": 4,
 "nbformat_minor": 2
}
