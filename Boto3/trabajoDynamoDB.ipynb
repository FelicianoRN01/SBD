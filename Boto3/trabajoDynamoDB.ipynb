{
 "cells": [
  {
   "cell_type": "markdown",
   "metadata": {},
   "source": [
    "### Conexion con aws"
   ]
  },
  {
   "cell_type": "code",
   "execution_count": 52,
   "metadata": {},
   "outputs": [
    {
     "name": "stdout",
     "output_type": "stream",
     "text": [
      "Tablas en DynamoDB:\n"
     ]
    }
   ],
   "source": [
    "import boto3\n",
    "\n",
    "# Crear cliente de DynamoDB\n",
    "dynamodb_client = boto3.client('dynamodb', region_name='us-east-1')\n",
    "\n",
    "# Listar tablas\n",
    "try:\n",
    "    response = dynamodb_client.list_tables()\n",
    "    tablas = response.get('TableNames', [])\n",
    "    print(\"Tablas en DynamoDB:\")\n",
    "    for tabla in tablas:\n",
    "        print(f\"- {tabla}\")\n",
    "except Exception as e:\n",
    "    print(\"Error al listar tablas:\", str(e))"
   ]
  },
  {
   "cell_type": "markdown",
   "metadata": {},
   "source": [
    "### 1 -Crear al menos 3 tablas con dos atributos cada una"
   ]
  },
  {
   "cell_type": "code",
   "execution_count": 53,
   "metadata": {},
   "outputs": [
    {
     "name": "stdout",
     "output_type": "stream",
     "text": [
      "Tablas creadas exitosamente.\n"
     ]
    }
   ],
   "source": [
    "# Crear tablas en DynamoDB\n",
    "try:\n",
    "    # Tabla 1\n",
    "    dynamodb_client.create_table(\n",
    "        TableName='Tabla1',\n",
    "        KeySchema=[\n",
    "            {'AttributeName': 'Nombre', 'KeyType': 'HASH'},  # Partition key\n",
    "            {'AttributeName': 'Apellido', 'KeyType': 'RANGE'}  # Sort key\n",
    "        ],\n",
    "        AttributeDefinitions=[\n",
    "            {'AttributeName': 'Nombre', 'AttributeType': 'S'},\n",
    "            {'AttributeName': 'Apellido', 'AttributeType': 'S'}\n",
    "            \n",
    "        ],\n",
    "        ProvisionedThroughput={\n",
    "            'ReadCapacityUnits': 5,\n",
    "            'WriteCapacityUnits': 5\n",
    "        }\n",
    "    )\n",
    "\n",
    "    # Tabla 2\n",
    "    dynamodb_client.create_table(\n",
    "        TableName='Tabla2',\n",
    "        KeySchema=[\n",
    "            {'AttributeName': 'Nombre', 'KeyType': 'HASH'},  # Partition key\n",
    "            {'AttributeName': 'Formacion', 'KeyType': 'RANGE'}  # Sort key\n",
    "        ],\n",
    "        AttributeDefinitions=[\n",
    "            {'AttributeName': 'Nombre', 'AttributeType': 'S'},\n",
    "            {'AttributeName': 'Formacion', 'AttributeType': 'S'}\n",
    "        ],\n",
    "        ProvisionedThroughput={\n",
    "            'ReadCapacityUnits': 5,\n",
    "            'WriteCapacityUnits': 5\n",
    "        }\n",
    "    )\n",
    "\n",
    "    # Tabla 3\n",
    "    dynamodb_client.create_table(\n",
    "        TableName='Tabla3',\n",
    "        KeySchema=[\n",
    "            {'AttributeName': 'Nombre', 'KeyType': 'HASH'},  # Partition key\n",
    "            {'AttributeName': 'Profesion', 'KeyType': 'RANGE'}  # Sort key\n",
    "        ],\n",
    "        AttributeDefinitions=[\n",
    "            {'AttributeName': 'Nombre', 'AttributeType': 'S'},\n",
    "            {'AttributeName': 'Profesion', 'AttributeType': 'S'}\n",
    "\n",
    "        ],\n",
    "        ProvisionedThroughput={\n",
    "            'ReadCapacityUnits': 5,\n",
    "            'WriteCapacityUnits': 5\n",
    "        }\n",
    "    )\n",
    "\n",
    "    print(\"Tablas creadas exitosamente.\")\n",
    "except Exception as e:\n",
    "    print(\"Error al crear tablas:\", str(e))"
   ]
  },
  {
   "cell_type": "markdown",
   "metadata": {},
   "source": [
    "### 2 - Crear tres registros"
   ]
  },
  {
   "cell_type": "code",
   "execution_count": 55,
   "metadata": {},
   "outputs": [
    {
     "name": "stdout",
     "output_type": "stream",
     "text": [
      "Registros creados exitosamente.\n"
     ]
    }
   ],
   "source": [
    "# Crear registros en las tablas\n",
    "try:\n",
    "    # Registro en Tabla1\n",
    "    dynamodb_client.put_item(\n",
    "        TableName='Tabla1',\n",
    "        Item={\n",
    "            'Nombre': {'S': 'Juan'},\n",
    "            'Apellido': {'S': 'Perez'},\n",
    "            'Edad': {'N': '17'}\n",
    "\n",
    "        }\n",
    "    )\n",
    "\n",
    "    # Registro en Tabla2\n",
    "    dynamodb_client.put_item(\n",
    "        TableName='Tabla2',\n",
    "        Item={\n",
    "            'Nombre': {'S': 'Ana'},\n",
    "            'Formacion': {'S': 'Ingenieria'},\n",
    "            'Edad': {'N': '28'}\n",
    "        }\n",
    "    )\n",
    "\n",
    "    # Registro en Tabla3\n",
    "    dynamodb_client.put_item(\n",
    "        TableName='Tabla3',\n",
    "        Item={\n",
    "            'Nombre': {'S': 'Luis'},\n",
    "            'Profesion': {'S': 'Medico'},\n",
    "            'Edad': {'N': '48'}\n",
    "        }\n",
    "    )\n",
    "\n",
    "    print(\"Registros creados exitosamente.\")\n",
    "except Exception as e:\n",
    "    print(\"Error al crear registros:\", str(e))"
   ]
  },
  {
   "cell_type": "markdown",
   "metadata": {},
   "source": [
    "### 3 - Obtener un registro de cada tabla"
   ]
  },
  {
   "cell_type": "code",
   "execution_count": 56,
   "metadata": {},
   "outputs": [
    {
     "name": "stdout",
     "output_type": "stream",
     "text": [
      "Tabla: Tabla1, Registro: {'Nombre': {'S': 'Juan'}, 'Edad': {'N': '17'}, 'Apellido': {'S': 'Perez'}}\n",
      "Tabla: Tabla2, Registro: {'Nombre': {'S': 'Ana'}, 'Edad': {'N': '28'}, 'Formacion': {'S': 'Ingenieria'}}\n",
      "Tabla: Tabla3, Registro: {'Nombre': {'S': 'Luis'}, 'Edad': {'N': '48'}, 'Profesion': {'S': 'Medico'}}\n"
     ]
    }
   ],
   "source": [
    "def obtener_un_registro_por_tabla():\n",
    "    \"\"\"\n",
    "    Esta función se conecta a AWS DynamoDB, lista todas las tablas disponibles\n",
    "    y recupera un único registro de cada tabla (si existe).\n",
    "\n",
    "    Retorna:\n",
    "        - Un diccionario donde las claves son los nombres de las tablas \n",
    "          y los valores son los primeros registros encontrados.\n",
    "    \"\"\"\n",
    "    # Obtener lista de tablas\n",
    "    response = dynamodb_client.list_tables()\n",
    "    tablas = response.get('TableNames', [])\n",
    "\n",
    "    resultados = {}\n",
    "\n",
    "    for tabla in tablas:\n",
    "        # Obtener un único registro de la tabla\n",
    "        response = dynamodb_client.scan(TableName=tabla, Limit=1)\n",
    "\n",
    "        # Extraer el primer ítem si existe\n",
    "        items = response.get('Items', [])\n",
    "        if items:\n",
    "            resultados[tabla] = items[0]\n",
    "        else:\n",
    "            resultados[tabla] = None  # Si la tabla está vacía\n",
    "\n",
    "    return resultados\n",
    "\n",
    "# Ejecutar la función y mostrar los resultados\n",
    "if __name__ == \"__main__\":\n",
    "    registros = obtener_un_registro_por_tabla()\n",
    "    for tabla, registro in registros.items():\n",
    "        print(f\"Tabla: {tabla}, Registro: {registro}\")"
   ]
  },
  {
   "cell_type": "markdown",
   "metadata": {},
   "source": [
    "#### 4 - Actualizar un registro de cada tabla"
   ]
  },
  {
   "cell_type": "code",
   "execution_count": 61,
   "metadata": {},
   "outputs": [
    {
     "ename": "SyntaxError",
     "evalue": "invalid syntax (3286356775.py, line 15)",
     "output_type": "error",
     "traceback": [
      "\u001b[0;36m  Cell \u001b[0;32mIn[61], line 15\u001b[0;36m\u001b[0m\n\u001b[0;31m    'Formacion': clave_ordenacion if tabla_nombre == 'Tabla2' else\u001b[0m\n\u001b[0m               ^\u001b[0m\n\u001b[0;31mSyntaxError\u001b[0m\u001b[0;31m:\u001b[0m invalid syntax\n"
     ]
    }
   ],
   "source": [
    "# Crear el cliente de DynamoDB\n",
    "dynamodb = boto3.resource('dynamodb')\n",
    "\n",
    "# Función para actualizar el registro de cada tabla\n",
    "def actualizar_edad(tabla_nombre, nombre_usuario, clave_ordenacion, nueva_edad):\n",
    "    try:\n",
    "        # Obtener la referencia de la tabla\n",
    "        tabla = dynamodb.Table(tabla_nombre)\n",
    "\n",
    "        # Ejecutar la operación de actualización\n",
    "        response = tabla.update_item(\n",
    "            Key={\n",
    "                'Nombre': nombre_usuario,  # Clave de partición\n",
    "                'Apellido': clave_ordenacion if tabla_nombre == 'Tabla1' else \n",
    "                'Formacion': clave_ordenacion if tabla_nombre == 'Tabla2' else\n",
    "                'Profesion': clave_ordenacion  # Clave de ordenación\n",
    "            },\n",
    "            UpdateExpression=\"set Edad = :e\",  # Actualizamos el atributo Edad\n",
    "            ExpressionAttributeValues={\n",
    "                ':e': nueva_edad  # El nuevo valor para Edad\n",
    "            },\n",
    "            ReturnValues=\"ALL_NEW\"  # Devuelve los valores después de la actualización\n",
    "        )\n",
    "        \n",
    "        # Mostrar los resultados de la actualización\n",
    "        print(f\"Actualización en {tabla_nombre}: {response['Attributes']}\")\n",
    "    except Exception as e:\n",
    "        print(f\"Error al actualizar en {tabla_nombre}: {e}\")\n",
    "# Actualizar los registros en las tablas\n",
    "if __name__ == \"__main__\":\n",
    "    # Actualizar la Edad de los registros\n",
    "    actualizar_edad('Tabla1', 'Juan', 23)  # Cambiar Edad de Juan en Tabla1 a 23\n",
    "    actualizar_edad('Tabla2', 'Ana', 33)   # Cambiar Edad de Ana en Tabla2 a 33\n",
    "    actualizar_edad('Tabla3', 'Luis', 64)  # Cambiar Edad de Luis en Tabla3 a 64\n",
    "\n"
   ]
  }
 ],
 "metadata": {
  "kernelspec": {
   "display_name": "boto3-venv",
   "language": "python",
   "name": "python3"
  },
  "language_info": {
   "codemirror_mode": {
    "name": "ipython",
    "version": 3
   },
   "file_extension": ".py",
   "mimetype": "text/x-python",
   "name": "python",
   "nbconvert_exporter": "python",
   "pygments_lexer": "ipython3",
   "version": "3.12.4"
  }
 },
 "nbformat": 4,
 "nbformat_minor": 2
}
